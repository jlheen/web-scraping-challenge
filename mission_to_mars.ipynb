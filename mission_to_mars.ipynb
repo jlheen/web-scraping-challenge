{
 "cells": [
  {
   "cell_type": "markdown",
   "metadata": {},
   "source": [
    "Project: Web Scraping Challenge  \n",
    "Name: Jodi Heen  \n",
    "Goal: Using Beautiful Soup, scrape a website for desired content, load results into a Mongo Database, and show active results using a Flask App dashboard."
   ]
  },
  {
   "cell_type": "code",
   "execution_count": 44,
   "metadata": {},
   "outputs": [],
   "source": [
    "# Import Dependencies\n",
    "from splinter import Browser\n",
    "from bs4 import BeautifulSoup\n",
    "import requests\n",
    "from selenium import webdriver\n",
    "import pandas as pd"
   ]
  },
  {
   "cell_type": "code",
   "execution_count": 3,
   "metadata": {},
   "outputs": [
    {
     "name": "stdout",
     "output_type": "stream",
     "text": [
      "/usr/local/bin/chromedriver\r\n"
     ]
    }
   ],
   "source": [
    "# activate chromedriver\n",
    "!which chromedriver"
   ]
  },
  {
   "cell_type": "code",
   "execution_count": 19,
   "metadata": {
    "scrolled": false
   },
   "outputs": [],
   "source": [
    "# Establish the path and browser connection\n",
    "executable_path = {'executable_path': '/usr/local/bin/chromedriver'}\n",
    "browser = Browser('chrome', **executable_path, headless=False)"
   ]
  },
  {
   "cell_type": "code",
   "execution_count": 15,
   "metadata": {},
   "outputs": [],
   "source": [
    "# Initial url to visit\n",
    "url = 'https://mars.nasa.gov/news/?page=0&per_page=40&order=publish_date+desc%2Ccreated_at+desc&search=&category=19%2C165%2C184%2C204&blank_scope=Latest'"
   ]
  },
  {
   "cell_type": "code",
   "execution_count": 16,
   "metadata": {},
   "outputs": [],
   "source": [
    "browser.visit(url)"
   ]
  },
  {
   "cell_type": "code",
   "execution_count": 33,
   "metadata": {},
   "outputs": [
    {
     "name": "stdout",
     "output_type": "stream",
     "text": [
      "How NASA's Perseverance Mars Team Adjusted to Work in the Time of Coronavirus \n",
      "Like much of the rest of the world, the Mars rover team is pushing forward with its mission-critical work while putting the health and safety of their colleagues and community first.\n"
     ]
    }
   ],
   "source": [
    "# Fetch the first headline and paragraph visible below it\n",
    "html = browser.html\n",
    "soup = BeautifulSoup(html, 'html.parser')\n",
    "\n",
    "list_item = soup.select_one('ul.item_list li.slide')\n",
    "\n",
    "news_title = list_item.find('div', class_='content_title')\n",
    "\n",
    "print(news_title.text)\n",
    "\n",
    "teaser = list_item.find('div', class_='article_teaser_body')\n",
    "\n",
    "print(teaser.text)"
   ]
  },
  {
   "cell_type": "code",
   "execution_count": 92,
   "metadata": {},
   "outputs": [],
   "source": [
    "# Featured Images\n",
    "image_url = 'https://www.jpl.nasa.gov/spaceimages/?search=&category=Mars'"
   ]
  },
  {
   "cell_type": "code",
   "execution_count": 177,
   "metadata": {},
   "outputs": [],
   "source": [
    "# Initial URL\n",
    "browser.visit(image_url)"
   ]
  },
  {
   "cell_type": "code",
   "execution_count": 178,
   "metadata": {},
   "outputs": [],
   "source": [
    "# Clicking \"Full Image\" button\n",
    "footer = browser.find_by_tag('footer')\n",
    "within_footer = footer.find_by_tag('a').click()"
   ]
  },
  {
   "cell_type": "code",
   "execution_count": 179,
   "metadata": {},
   "outputs": [],
   "source": [
    "# Clicking \"more info\" button\n",
    "more_info = browser.find_by_id('fancybox-lock')\n",
    "a_tag = more_info.find_by_tag('a')[4].click()"
   ]
  },
  {
   "cell_type": "code",
   "execution_count": 180,
   "metadata": {},
   "outputs": [],
   "source": [
    "# Clicking the image for full size\n",
    "div = browser.find_by_id('page')\n",
    "section = div.find_by_tag('section')\n",
    "jpg_image = section.find_by_tag('img').click()"
   ]
  },
  {
   "cell_type": "code",
   "execution_count": 181,
   "metadata": {},
   "outputs": [
    {
     "data": {
      "text/plain": [
       "'https://www.jpl.nasa.gov/spaceimages/images/largesize/PIA17761_hires.jpg'"
      ]
     },
     "execution_count": 181,
     "metadata": {},
     "output_type": "execute_result"
    }
   ],
   "source": [
    "# Print browser url to check it\n",
    "browser.url"
   ]
  },
  {
   "cell_type": "code",
   "execution_count": 182,
   "metadata": {},
   "outputs": [],
   "source": [
    "# Save this to a variable\n",
    "featured_jpg_img = browser.url"
   ]
  },
  {
   "cell_type": "code",
   "execution_count": 183,
   "metadata": {
    "scrolled": true
   },
   "outputs": [
    {
     "name": "stdout",
     "output_type": "stream",
     "text": [
      "https://www.jpl.nasa.gov/spaceimages/images/largesize/PIA17761_hires.jpg\n"
     ]
    }
   ],
   "source": [
    "# Print this so that it's available\n",
    "print(featured_jpg_img)"
   ]
  },
  {
   "cell_type": "code",
   "execution_count": 20,
   "metadata": {},
   "outputs": [],
   "source": [
    "# Mars Weather via Twitter\n",
    "mars_wth = 'https://twitter.com/marswxreport?lang=en'"
   ]
  },
  {
   "cell_type": "code",
   "execution_count": 21,
   "metadata": {},
   "outputs": [],
   "source": [
    "browser.visit(mars_wth)"
   ]
  },
  {
   "cell_type": "code",
   "execution_count": 27,
   "metadata": {},
   "outputs": [
    {
     "name": "stdout",
     "output_type": "stream",
     "text": [
      "None\n"
     ]
    }
   ],
   "source": [
    "# div = browser.find_by_tag('main')\n",
    "# section = div.find_by_tag('span')\n",
    "main_content = soup.find('main', attrs = {'class': 'span'})\n",
    "print(main_content)\n",
    "# jpg_image = section.find_by_tag('img').click()"
   ]
  },
  {
   "cell_type": "code",
   "execution_count": 35,
   "metadata": {},
   "outputs": [],
   "source": [
    "url = 'https://twitter.com/marswxreport?lang=en'"
   ]
  },
  {
   "cell_type": "code",
   "execution_count": 38,
   "metadata": {},
   "outputs": [],
   "source": [
    "browser = webdriver.Chrome()\n",
    "browser.get(url)"
   ]
  },
  {
   "cell_type": "code",
   "execution_count": 39,
   "metadata": {},
   "outputs": [],
   "source": [
    "main = browser.find_element_by_tag_name('main')"
   ]
  },
  {
   "cell_type": "code",
   "execution_count": 40,
   "metadata": {},
   "outputs": [],
   "source": [
    "tweet = browser.find_elements_by_class_name('span')"
   ]
  },
  {
   "cell_type": "code",
   "execution_count": 43,
   "metadata": {},
   "outputs": [
    {
     "name": "stdout",
     "output_type": "stream",
     "text": [
      "[]\n"
     ]
    }
   ],
   "source": [
    "print(tweet)"
   ]
  },
  {
   "cell_type": "code",
   "execution_count": 45,
   "metadata": {},
   "outputs": [],
   "source": [
    "# Mars Facts\n",
    "mfacts_url = 'https://en.wikipedia.org/wiki/List_of_capitals_in_the_United_States'"
   ]
  },
  {
   "cell_type": "code",
   "execution_count": 46,
   "metadata": {},
   "outputs": [
    {
     "data": {
      "text/plain": [
       "[    0                                                  1\n",
       " 0 NaN  This section may require cleanup to meet Wikip...,\n",
       "              State Abr. State-hood         Capital Capital since Area (mi²)  \\\n",
       "              State Abr. State-hood         Capital Capital since Area (mi²)   \n",
       " 0          Alabama   AL       1819      Montgomery          1846     159.80   \n",
       " 1           Alaska   AK       1959          Juneau          1906    2716.70   \n",
       " 2          Arizona   AZ       1912         Phoenix          1889     517.60   \n",
       " 3         Arkansas   AR       1836     Little Rock          1821     116.20   \n",
       " 4       California   CA       1850      Sacramento          1854      97.90   \n",
       " 5         Colorado   CO       1876          Denver          1867     153.30   \n",
       " 6      Connecticut   CT       1788        Hartford          1875      17.30   \n",
       " 7         Delaware   DE       1787           Dover          1777      22.40   \n",
       " 8          Florida   FL       1845     Tallahassee          1824      95.70   \n",
       " 9          Georgia   GA       1788         Atlanta          1868     133.50   \n",
       " 10          Hawaii   HI       1959        Honolulu          1845      68.40   \n",
       " 11           Idaho   ID       1890           Boise          1865      63.80   \n",
       " 12        Illinois   IL       1818     Springfield          1837      54.00   \n",
       " 13         Indiana   IN       1816    Indianapolis          1825     361.50   \n",
       " 14            Iowa   IA       1846      Des Moines          1857      75.80   \n",
       " 15          Kansas   KS       1861          Topeka          1856      56.00   \n",
       " 16        Kentucky   KY       1792       Frankfort          1792      14.70   \n",
       " 17       Louisiana   LA       1812     Baton Rouge          1880      76.80   \n",
       " 18           Maine   ME       1820         Augusta          1832      55.40   \n",
       " 19        Maryland   MD       1788       Annapolis          1694       6.73   \n",
       " 20   Massachusetts   MA       1788          Boston          1630      89.60   \n",
       " 21        Michigan   MI       1837         Lansing          1847      35.00   \n",
       " 22       Minnesota   MN       1858      Saint Paul          1849      52.80   \n",
       " 23     Mississippi   MS       1817         Jackson          1821     104.90   \n",
       " 24        Missouri   MO       1821  Jefferson City          1826      27.30   \n",
       " 25         Montana   MT       1889          Helena          1875      14.00   \n",
       " 26        Nebraska   NE       1867         Lincoln          1867      74.60   \n",
       " 27          Nevada   NV       1864     Carson City          1861     143.40   \n",
       " 28   New Hampshire   NH       1788         Concord          1808      64.30   \n",
       " 29      New Jersey   NJ       1787         Trenton          1784       7.66   \n",
       " 30      New Mexico   NM       1912        Santa Fe          1610      37.30   \n",
       " 31        New York   NY       1788          Albany          1797      21.40   \n",
       " 32  North Carolina   NC       1789         Raleigh          1792     114.60   \n",
       " 33    North Dakota   ND       1889        Bismarck          1883      26.90   \n",
       " 34            Ohio   OH       1803        Columbus          1816     210.30   \n",
       " 35        Oklahoma   OK       1907   Oklahoma City          1910     620.30   \n",
       " 36          Oregon   OR       1859           Salem          1855      45.70   \n",
       " 37    Pennsylvania   PA       1787      Harrisburg          1812       8.11   \n",
       " 38    Rhode Island   RI       1790      Providence          1900      18.50   \n",
       " 39  South Carolina   SC       1788        Columbia          1786     125.20   \n",
       " 40    South Dakota   SD       1889          Pierre          1889      13.00   \n",
       " 41       Tennessee   TN       1796       Nashville          1826     525.90   \n",
       " 42           Texas   TX       1845          Austin          1839     305.10   \n",
       " 43            Utah   UT       1896  Salt Lake City          1858     109.10   \n",
       " 44         Vermont   VT       1791      Montpelier          1805      10.20   \n",
       " 45        Virginia   VA       1788        Richmond          1780      60.10   \n",
       " 46      Washington   WA       1889         Olympia          1853      16.70   \n",
       " 47   West Virginia   WV       1863      Charleston          1885      31.60   \n",
       " 48       Wisconsin   WI       1848         Madison          1838      68.70   \n",
       " 49         Wyoming   WY       1890        Cheyenne          1869      21.10   \n",
       " \n",
       "    Population (2018)                                        \\\n",
       "                 City Metropolitan Rank in state Rank in US   \n",
       " 0             198218     373903.0             2      119.0   \n",
       " 1              31275          NaN             3        NaN   \n",
       " 2            1660272    4857962.0             1        5.0   \n",
       " 3             193524     699757.0             1      117.0   \n",
       " 4             508529    2345210.0             6       35.0   \n",
       " 5             716492    2932415.0             1       19.0   \n",
       " 6             124775    1212381.0             3      199.0   \n",
       " 7              36047     162310.0             2        NaN   \n",
       " 8             181376     367413.0             7      125.0   \n",
       " 9             498044    5949951.0             1       37.0   \n",
       " 10            359870     953207.0             1       56.0   \n",
       " 11            205671     616561.0             1      103.0   \n",
       " 12            116250     210170.0             6      221.0   \n",
       " 13            867125    2004230.0             1       16.0   \n",
       " 14            203433     569633.0             1      105.0   \n",
       " 15            127473     230870.0             4      193.0   \n",
       " 16             25527      70758.0            14        NaN   \n",
       " 17            225374     830480.0             2       99.0   \n",
       " 18             19136     117114.0             8        NaN   \n",
       " 19             38394          NaN             7        NaN   \n",
       " 20            694583    4628910.0             1       21.0   \n",
       " 21            114297     464036.0             5      226.0   \n",
       " 22            285068    3348659.0             2       67.0   \n",
       " 23            173514     567122.0             1      134.0   \n",
       " 24             43079     149807.0            15        NaN   \n",
       " 25             28190      74801.0             6        NaN   \n",
       " 26            258379     302157.0             2       72.0   \n",
       " 27             55274          NaN             6        NaN   \n",
       " 28             42695     146445.0             3        NaN   \n",
       " 29             84913     366513.0            10        NaN   \n",
       " 30             75764     183732.0             4        NaN   \n",
       " 31             97856     857592.0             6        NaN   \n",
       " 32            403892    1130490.0             2       43.0   \n",
       " 33             61272     108779.0             2        NaN   \n",
       " 34            892553    2078725.0             1       14.0   \n",
       " 35            649021    1396445.0             1       27.0   \n",
       " 36            154637     390738.0             3      149.0   \n",
       " 37             49528     647390.0             9        NaN   \n",
       " 38            178042    1600852.0             1      130.0   \n",
       " 39            129272     767598.0             2      191.0   \n",
       " 40             13646          NaN             8        NaN   \n",
       " 41            691243    1903045.0             1       24.0   \n",
       " 42            964254    2168316.0             4       11.0   \n",
       " 43            186440    1087873.0             1      124.0   \n",
       " 44              7855          NaN             6        NaN   \n",
       " 45            204214    1208101.0             4      104.0   \n",
       " 46             46478     234670.0            24        NaN   \n",
       " 47             51400     304214.0             1        NaN   \n",
       " 48            258054     659726.0             2       81.0   \n",
       " 49             59466      91738.0             1        NaN   \n",
       " \n",
       "                                                 Notes  \n",
       "                                                 Notes  \n",
       " 0                                                 NaN  \n",
       " 1             Largest capital by municipal land area.  \n",
       " 2                      Largest capital by population.  \n",
       " 3                                                 NaN  \n",
       " 4                                                 NaN  \n",
       " 5                                                 NaN  \n",
       " 6                                                 NaN  \n",
       " 7      Longest-serving capital in terms of statehood.  \n",
       " 8                                                 NaN  \n",
       " 9    Largest capital by metropolitan area population.  \n",
       " 10                                                NaN  \n",
       " 11                                                NaN  \n",
       " 12                                                NaN  \n",
       " 13                                                NaN  \n",
       " 14                                                NaN  \n",
       " 15                                                NaN  \n",
       " 16                                                NaN  \n",
       " 17                                                NaN  \n",
       " 18                                                NaN  \n",
       " 19                     Smallest capital by land area.  \n",
       " 20              Longest continuously serving capital.  \n",
       " 21                                                NaN  \n",
       " 22                                                NaN  \n",
       " 23                                                NaN  \n",
       " 24                                                NaN  \n",
       " 25                                                NaN  \n",
       " 26                                                NaN  \n",
       " 27                                                NaN  \n",
       " 28                                                NaN  \n",
       " 29                                                NaN  \n",
       " 30                           Longest-serving capital.  \n",
       " 31                                                NaN  \n",
       " 32                                                NaN  \n",
       " 33                                                NaN  \n",
       " 34                                                NaN  \n",
       " 35            Shortest-serving current state capital.  \n",
       " 36                                                NaN  \n",
       " 37                                                NaN  \n",
       " 38                                                NaN  \n",
       " 39                                                NaN  \n",
       " 40                                                NaN  \n",
       " 41                                                NaN  \n",
       " 42  Largest capital by population to not be the mo...  \n",
       " 43                                                NaN  \n",
       " 44                    Smallest capital by population.  \n",
       " 45                                                NaN  \n",
       " 46                                                NaN  \n",
       " 47  Smallest capital by population to also be the ...  \n",
       " 48                                                NaN  \n",
       " 49                                                NaN  ,\n",
       "                Insular area Abr.  Date           Capital  Population (2010)  \\\n",
       " 0            American Samoa   AS  1899         Pago Pago               3656   \n",
       " 1                      Guam   GU  1898           Hagåtña               1051   \n",
       " 2  Northern Mariana Islands   MP  1947            Saipan              48220   \n",
       " 3               Puerto Rico   PR  1898          San Juan             395326   \n",
       " 4       U.S. Virgin Islands   VI  1917  Charlotte Amalie              18481   \n",
       " \n",
       "                                                Notes  \n",
       " 0  Pago Pago refers to both a village and a group...  \n",
       " 1              Dededo is the area's largest village.  \n",
       " 2                                                NaN  \n",
       " 3  The city of San Juan was originally called Pue...  \n",
       " 4                                                NaN  ,\n",
       "                               State        Capital  Date  \\\n",
       " 0      Alabama[17]Statehood in 1819    San Agustín  1565   \n",
       " 1      Alabama[17]Statehood in 1819       Savannah  1733   \n",
       " 2      Alabama[17]Statehood in 1819       Savannah  1755   \n",
       " 3      Alabama[17]Statehood in 1819       Savannah  1776   \n",
       " 4      Alabama[17]Statehood in 1819   Augusta (GA)  1778   \n",
       " ..                              ...            ...   ...   \n",
       " 468  Wisconsin[51]Statehood in 1848        Madison  1848   \n",
       " 469    Wyoming[52]Statehood in 1890  Lewiston (ID)  1863   \n",
       " 470    Wyoming[52]Statehood in 1890   Yankton (SD)  1864   \n",
       " 471    Wyoming[52]Statehood in 1890       Cheyenne  1869   \n",
       " 472    Wyoming[52]Statehood in 1890       Cheyenne  1890   \n",
       " \n",
       "                                                  Notes  \n",
       " 0     Capital of the Spanish colony of La Florida.[18]  \n",
       " 1    Capital of the British proprietary Colony of G...  \n",
       " 2          Capital of the British Province of Georgia.  \n",
       " 3                    Capitals of the State of Georgia.  \n",
       " 4                    Capitals of the State of Georgia.  \n",
       " ..                                                 ...  \n",
       " 468                 Capital of the State of Wisconsin.  \n",
       " 469                 Capital of the Territory of Idaho.  \n",
       " 470                Capital of the Territory of Dakota.  \n",
       " 471               Capital of the Territory of Wyoming.  \n",
       " 472                   Capital of the State of Wyoming.  \n",
       " \n",
       " [473 rows x 4 columns],\n",
       "     vteCapitals of the United States by jurisdiction  \\\n",
       " 0  Nation: US Washington States: AL Montgomery AK...   \n",
       " \n",
       "   vteCapitals of the United States by jurisdiction.1  \n",
       " 0  Nation: US Washington States: AL Montgomery AK...  ,\n",
       "                  vteUnited States state-related lists  \\\n",
       " 0   List of states and territories of the United S...   \n",
       " 1                                        Demographics   \n",
       " 2                                             Economy   \n",
       " 3                                         Environment   \n",
       " 4                                           Geography   \n",
       " 5                                          Government   \n",
       " 6                                              Health   \n",
       " 7                                             History   \n",
       " 8                                                 Law   \n",
       " 9                                       Miscellaneous   \n",
       " 10                         Category  Commons  Portals   \n",
       " \n",
       "                vteUnited States state-related lists.1  \n",
       " 0   List of states and territories of the United S...  \n",
       " 1   Population African American Amish Asian Birth ...  \n",
       " 2   Billionaires Budgets Companies Credit ratings ...  \n",
       " 3   Botanical gardens Carbon dioxide emissions Par...  \n",
       " 4   Area Bays Beaches Coastline Elevation Extreme ...  \n",
       " 5   Agriculture commissioners Attorneys general Ca...  \n",
       " 6   Fertility rates Hospitals Human Development In...  \n",
       " 7   Date of statehood Name etymologies Historical ...  \n",
       " 8   Abortion Age of consent Alcohol Dry communitie...  \n",
       " 9   Abbreviations Airports Bus transit systems Cas...  \n",
       " 10                         Category  Commons  Portals  ,\n",
       "   vteLocation of the capital of the United States  \\\n",
       " 0                              Temporary capitals   \n",
       " 1                               Permanent capital   \n",
       " \n",
       "    vteLocation of the capital of the United States.1  \n",
       " 0  Philadelphia (1776; 1777; 1778–1783; 1791–1800...  \n",
       " 1                      Washington, D.C. (since 1800)  ]"
      ]
     },
     "execution_count": 46,
     "metadata": {},
     "output_type": "execute_result"
    }
   ],
   "source": [
    "mars_tables = pd.read_html(mfacts_url)\n",
    "mars_tables"
   ]
  },
  {
   "cell_type": "code",
   "execution_count": null,
   "metadata": {},
   "outputs": [],
   "source": [
    "mfacts_df = "
   ]
  }
 ],
 "metadata": {
  "kernelspec": {
   "display_name": "Python 3.7.4 64-bit ('anaconda3': virtualenv)",
   "language": "python",
   "name": "python37464bitanaconda3virtualenvf91fde15fee24865809b849161d4b1f9"
  },
  "language_info": {
   "codemirror_mode": {
    "name": "ipython",
    "version": 3
   },
   "file_extension": ".py",
   "mimetype": "text/x-python",
   "name": "python",
   "nbconvert_exporter": "python",
   "pygments_lexer": "ipython3",
   "version": "3.7.4"
  }
 },
 "nbformat": 4,
 "nbformat_minor": 2
}
